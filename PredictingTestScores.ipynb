{
 "cells": [
  {
   "cell_type": "code",
   "execution_count": null,
   "id": "52873e01",
   "metadata": {},
   "outputs": [],
   "source": [
    "import numpy as np\n",
    "import pandas as pd\n",
    "from sklearn.linear_model import LinearRegression\n",
    "import math"
   ]
  },
  {
   "cell_type": "code",
   "execution_count": null,
   "id": "db1ac641",
   "metadata": {},
   "outputs": [],
   "source": [
    "def predict_using_sklearn():\n",
    "    df = pd.read_csv(\"D:\\\\Machine Learning\\\\Data\\\\test_scores.csv\")\n",
    "    r = LinearRegression()\n",
    "    r.fit(df[['math']],df.cs)\n",
    "    return r.coef_, r.intercept_"
   ]
  },
  {
   "cell_type": "code",
   "execution_count": null,
   "id": "6451997e",
   "metadata": {},
   "outputs": [],
   "source": [
    "def gradient_descent(x,y):\n",
    "    m_curr = b_curr = 0  #defining the current variables which change with every iteration\n",
    "    iterations = 1000000  #defining the number of iterations\n",
    "    n = len(x)  # defining n which is used in the formulas\n",
    "    learning_rate = 0.0002\n",
    "    cost_previous = 0\n",
    "    for i in range(iterations):\n",
    "        y_predicted = m_curr * x + b_curr\n",
    "        cost = (1/n) * sum([val**2 for val in (y - y_predicted)])   #Formula for cost function\n",
    "        md = -(2/n) * sum(x * (y - y_predicted))  #formula to calculate derivative of m\n",
    "        bd = -(2/n) * sum(y - y_predicted)   #formula to calculate derivative of b\n",
    "        m_curr = m_curr - learning_rate * md\n",
    "        b_curr = b_curr - learning_rate * bd\n",
    "        if math.isclose(cost, cost_previous, rel_tol = 1e-20):\n",
    "            break\n",
    "        cost_previous = cost\n",
    "        print(\"m {}, b {}, cost {}, iteration {}\".format(m_curr,b_curr,cost,i))\n",
    "    return m_curr, b_curr"
   ]
  },
  {
   "cell_type": "code",
   "execution_count": null,
   "id": "b385d3d0",
   "metadata": {},
   "outputs": [],
   "source": [
    "if __name__ in \"__main__\":\n",
    "    df = pd.read_csv(\"D:\\\\Machine Learning\\\\Data\\\\test_scores.csv\")\n",
    "    x = np.array(df.math)\n",
    "    y = np.array(df.cs)\n",
    "    \n",
    "    m, b = gradient_descent(x,y)\n",
    "    print(\"using gradient descent function: Coef {}, Intercept{}\".format(m, b))\n",
    "    \n",
    "    m_sklearn, b_sklearn = predict_using_sklearn()\n",
    "    print(\"using sklearn: Coef {}, Intercept {}\".format(m_sklearn,b_sklearn))"
   ]
  }
 ],
 "metadata": {
  "kernelspec": {
   "display_name": "Python 3 (ipykernel)",
   "language": "python",
   "name": "python3"
  },
  "language_info": {
   "codemirror_mode": {
    "name": "ipython",
    "version": 3
   },
   "file_extension": ".py",
   "mimetype": "text/x-python",
   "name": "python",
   "nbconvert_exporter": "python",
   "pygments_lexer": "ipython3",
   "version": "3.11.7"
  }
 },
 "nbformat": 4,
 "nbformat_minor": 5
}
